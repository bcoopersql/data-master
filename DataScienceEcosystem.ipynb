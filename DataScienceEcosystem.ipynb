{
 "cells": [
  {
   "cell_type": "markdown",
   "id": "604d134c-3c83-455c-a4d3-c840cc296735",
   "metadata": {},
   "source": [
    "# Data Science Tools and Ecosystem"
   ]
  },
  {
   "cell_type": "markdown",
   "id": "f6c7d77f-4ee8-40a8-b076-890e8e9edea3",
   "metadata": {},
   "source": [
    "In this notebook, Data Science Tools and Ecosystem are summarized."
   ]
  },
  {
   "cell_type": "markdown",
   "id": "a0b22288-715e-4e4b-b0f2-57678c552816",
   "metadata": {},
   "source": [
    "**Objectives:**\n",
    "* List data science libraries\n",
    "* List popular languages for Data Science\n",
    "* Arithmetic expression examples\n",
    "* Multiply and add numbers"
   ]
  },
  {
   "cell_type": "markdown",
   "id": "cd0f7369-a3ed-4499-a834-e03b8fe3542d",
   "metadata": {},
   "source": [
    "Some of the popular languages that Data Scientists use are:"
   ]
  },
  {
   "cell_type": "markdown",
   "id": "c5157579-69c4-4667-a649-42fdd143e6ee",
   "metadata": {
    "tags": []
   },
   "source": [
    "1. Python\n",
    "2. R\n",
    "3. Julia\n",
    "4. Scala"
   ]
  },
  {
   "cell_type": "markdown",
   "id": "c940d1ba-5d4a-40b5-8feb-1a144d9e5d8a",
   "metadata": {},
   "source": [
    "Some of the commonly used libraries used by Data Scientists include:"
   ]
  },
  {
   "cell_type": "markdown",
   "id": "68d98344-3db8-4941-afc0-cc08db6b6863",
   "metadata": {},
   "source": [
    "1. ggplot2\n",
    "2. dplyr\n",
    "3. caret"
   ]
  },
  {
   "cell_type": "code",
   "execution_count": 5,
   "id": "93e35444-1f75-40ec-bbfc-bbfd4f94823d",
   "metadata": {
    "tags": []
   },
   "outputs": [
    {
     "data": {
      "text/html": [
       "<style>\n",
       "table {float:left}\n",
       "</style>\n"
      ],
      "text/plain": [
       "<IPython.core.display.HTML object>"
      ]
     },
     "metadata": {},
     "output_type": "display_data"
    }
   ],
   "source": [
    "%%html\n",
    "<style>\n",
    "table {float:left}\n",
    "</style>"
   ]
  },
  {
   "cell_type": "markdown",
   "id": "6a53e1fe-dc20-48a6-9599-aa968c4897fa",
   "metadata": {
    "tags": []
   },
   "source": [
    "### \n",
    "| Data Science Tools |\n",
    "| -------------------- |\n",
    "| PyCharm Community |\n",
    "| Spyder |\n",
    "| R Studio |"
   ]
  },
  {
   "cell_type": "markdown",
   "id": "6d8b7653-2a65-4259-9561-b5c506ab47bd",
   "metadata": {},
   "source": [
    "### Below are a few examples of evaluating arithmetic expressions in Python"
   ]
  },
  {
   "cell_type": "code",
   "execution_count": 6,
   "id": "75c733c9-bb01-4544-8a0f-1ee69a03a4ce",
   "metadata": {
    "tags": []
   },
   "outputs": [
    {
     "data": {
      "text/plain": [
       "17"
      ]
     },
     "execution_count": 6,
     "metadata": {},
     "output_type": "execute_result"
    }
   ],
   "source": [
    "# This a simple arithmetic expression to mutiply then add integers\n",
    "(3*4)+5"
   ]
  },
  {
   "cell_type": "code",
   "execution_count": 7,
   "id": "da72381a-ecc8-4d72-aeef-4f9c2ce5b801",
   "metadata": {
    "tags": []
   },
   "outputs": [
    {
     "data": {
      "text/plain": [
       "3.3333333333333335"
      ]
     },
     "execution_count": 7,
     "metadata": {},
     "output_type": "execute_result"
    }
   ],
   "source": [
    "# This will convert 200 minutes to hours by diving by 60\n",
    "200/60"
   ]
  },
  {
   "cell_type": "markdown",
   "id": "0948efe8-ff6f-4fe4-b29d-37cda0475668",
   "metadata": {},
   "source": [
    "## Author\n",
    "Barbara Cooper"
   ]
  },
  {
   "cell_type": "code",
   "execution_count": null,
   "id": "3d330e47-17ee-4d77-9cfb-54589781ea08",
   "metadata": {},
   "outputs": [],
   "source": []
  }
 ],
 "metadata": {
  "kernelspec": {
   "display_name": "Python 3 (ipykernel)",
   "language": "python",
   "name": "python3"
  },
  "language_info": {
   "codemirror_mode": {
    "name": "ipython",
    "version": 3
   },
   "file_extension": ".py",
   "mimetype": "text/x-python",
   "name": "python",
   "nbconvert_exporter": "python",
   "pygments_lexer": "ipython3",
   "version": "3.10.4"
  }
 },
 "nbformat": 4,
 "nbformat_minor": 5
}
